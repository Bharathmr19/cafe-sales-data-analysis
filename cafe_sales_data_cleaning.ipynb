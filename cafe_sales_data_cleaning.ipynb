{
 "cells": [
  {
   "cell_type": "code",
   "execution_count": 1,
   "id": "bc5a52f7-52c6-4100-a5b4-a1a666c82670",
   "metadata": {},
   "outputs": [
    {
     "name": "stdout",
     "output_type": "stream",
     "text": [
      "<class 'pandas.core.frame.DataFrame'>\n",
      "RangeIndex: 10000 entries, 0 to 9999\n",
      "Data columns (total 8 columns):\n",
      " #   Column            Non-Null Count  Dtype \n",
      "---  ------            --------------  ----- \n",
      " 0   Transaction ID    10000 non-null  object\n",
      " 1   Item              9667 non-null   object\n",
      " 2   Quantity          9862 non-null   object\n",
      " 3   Price Per Unit    9821 non-null   object\n",
      " 4   Total Spent       9827 non-null   object\n",
      " 5   Payment Method    7421 non-null   object\n",
      " 6   Location          6735 non-null   object\n",
      " 7   Transaction Date  9841 non-null   object\n",
      "dtypes: object(8)\n",
      "memory usage: 625.1+ KB\n"
     ]
    }
   ],
   "source": [
    "import pandas as pd\n",
    "\n",
    "df = pd.read_csv(\"dirty_cafe_sales.csv\")\n",
    "\n",
    "df.info()"
   ]
  },
  {
   "cell_type": "code",
   "execution_count": 2,
   "id": "d00e9037-204c-4923-bec6-b048c14bead9",
   "metadata": {},
   "outputs": [
    {
     "data": {
      "text/html": [
       "<div>\n",
       "<style scoped>\n",
       "    .dataframe tbody tr th:only-of-type {\n",
       "        vertical-align: middle;\n",
       "    }\n",
       "\n",
       "    .dataframe tbody tr th {\n",
       "        vertical-align: top;\n",
       "    }\n",
       "\n",
       "    .dataframe thead th {\n",
       "        text-align: right;\n",
       "    }\n",
       "</style>\n",
       "<table border=\"1\" class=\"dataframe\">\n",
       "  <thead>\n",
       "    <tr style=\"text-align: right;\">\n",
       "      <th></th>\n",
       "      <th>Transaction ID</th>\n",
       "      <th>Item</th>\n",
       "      <th>Quantity</th>\n",
       "      <th>Price Per Unit</th>\n",
       "      <th>Total Spent</th>\n",
       "      <th>Payment Method</th>\n",
       "      <th>Location</th>\n",
       "      <th>Transaction Date</th>\n",
       "    </tr>\n",
       "  </thead>\n",
       "  <tbody>\n",
       "    <tr>\n",
       "      <th>0</th>\n",
       "      <td>TXN_1961373</td>\n",
       "      <td>Coffee</td>\n",
       "      <td>2</td>\n",
       "      <td>2.0</td>\n",
       "      <td>4.0</td>\n",
       "      <td>Credit Card</td>\n",
       "      <td>Takeaway</td>\n",
       "      <td>2023-09-08</td>\n",
       "    </tr>\n",
       "    <tr>\n",
       "      <th>1</th>\n",
       "      <td>TXN_4977031</td>\n",
       "      <td>Cake</td>\n",
       "      <td>4</td>\n",
       "      <td>3.0</td>\n",
       "      <td>12.0</td>\n",
       "      <td>Cash</td>\n",
       "      <td>In-store</td>\n",
       "      <td>2023-05-16</td>\n",
       "    </tr>\n",
       "    <tr>\n",
       "      <th>2</th>\n",
       "      <td>TXN_4271903</td>\n",
       "      <td>Cookie</td>\n",
       "      <td>4</td>\n",
       "      <td>1.0</td>\n",
       "      <td>ERROR</td>\n",
       "      <td>Credit Card</td>\n",
       "      <td>In-store</td>\n",
       "      <td>2023-07-19</td>\n",
       "    </tr>\n",
       "    <tr>\n",
       "      <th>3</th>\n",
       "      <td>TXN_7034554</td>\n",
       "      <td>Salad</td>\n",
       "      <td>2</td>\n",
       "      <td>5.0</td>\n",
       "      <td>10.0</td>\n",
       "      <td>UNKNOWN</td>\n",
       "      <td>UNKNOWN</td>\n",
       "      <td>2023-04-27</td>\n",
       "    </tr>\n",
       "    <tr>\n",
       "      <th>4</th>\n",
       "      <td>TXN_3160411</td>\n",
       "      <td>Coffee</td>\n",
       "      <td>2</td>\n",
       "      <td>2.0</td>\n",
       "      <td>4.0</td>\n",
       "      <td>Digital Wallet</td>\n",
       "      <td>In-store</td>\n",
       "      <td>2023-06-11</td>\n",
       "    </tr>\n",
       "  </tbody>\n",
       "</table>\n",
       "</div>"
      ],
      "text/plain": [
       "  Transaction ID    Item Quantity Price Per Unit Total Spent  Payment Method  \\\n",
       "0    TXN_1961373  Coffee        2            2.0         4.0     Credit Card   \n",
       "1    TXN_4977031    Cake        4            3.0        12.0            Cash   \n",
       "2    TXN_4271903  Cookie        4            1.0       ERROR     Credit Card   \n",
       "3    TXN_7034554   Salad        2            5.0        10.0         UNKNOWN   \n",
       "4    TXN_3160411  Coffee        2            2.0         4.0  Digital Wallet   \n",
       "\n",
       "   Location Transaction Date  \n",
       "0  Takeaway       2023-09-08  \n",
       "1  In-store       2023-05-16  \n",
       "2  In-store       2023-07-19  \n",
       "3   UNKNOWN       2023-04-27  \n",
       "4  In-store       2023-06-11  "
      ]
     },
     "execution_count": 2,
     "metadata": {},
     "output_type": "execute_result"
    }
   ],
   "source": [
    "df.head()"
   ]
  },
  {
   "cell_type": "code",
   "execution_count": 3,
   "id": "5febcadc-b190-4509-8f82-b82a126f5a3c",
   "metadata": {},
   "outputs": [
    {
     "data": {
      "text/plain": [
       "Transaction ID         0\n",
       "Item                 333\n",
       "Quantity             138\n",
       "Price Per Unit       179\n",
       "Total Spent          173\n",
       "Payment Method      2579\n",
       "Location            3265\n",
       "Transaction Date     159\n",
       "dtype: int64"
      ]
     },
     "execution_count": 3,
     "metadata": {},
     "output_type": "execute_result"
    }
   ],
   "source": [
    "missing_values = df.isnull().sum()\n",
    "missing_values"
   ]
  },
  {
   "cell_type": "code",
   "execution_count": 4,
   "id": "0fe8a82d-f8e9-4179-91a7-194865163d64",
   "metadata": {},
   "outputs": [
    {
     "name": "stdout",
     "output_type": "stream",
     "text": [
      "Transaction ID       0.00\n",
      "Item                 3.33\n",
      "Quantity             1.38\n",
      "Price Per Unit       1.79\n",
      "Total Spent          1.73\n",
      "Payment Method      25.79\n",
      "Location            32.65\n",
      "Transaction Date     1.59\n",
      "dtype: float64\n"
     ]
    }
   ],
   "source": [
    "# Check missing values percentage\n",
    "missing_values = df.isnull().sum() / len(df) * 100\n",
    "print(missing_values)\n"
   ]
  },
  {
   "cell_type": "code",
   "execution_count": 5,
   "id": "8538ee4c-1646-45c0-ad5e-ebf09e9fedfe",
   "metadata": {},
   "outputs": [],
   "source": [
    "# Fill missing 'Item' with 'Unknown'\n",
    "df['Item'] = df['Item'].fillna('Unknown')\n"
   ]
  },
  {
   "cell_type": "code",
   "execution_count": 6,
   "id": "0b9835a3-3143-44e8-9751-1f0b87e1d57a",
   "metadata": {},
   "outputs": [],
   "source": [
    "# Convert numeric columns and fill NaNs with 0\n",
    "df['Quantity'] = pd.to_numeric(df['Quantity'], errors='coerce').fillna(0)\n",
    "df['Price Per Unit'] = pd.to_numeric(df['Price Per Unit'], errors='coerce').fillna(0)\n",
    "df['Total Spent'] = pd.to_numeric(df['Total Spent'], errors='coerce').fillna(0)"
   ]
  },
  {
   "cell_type": "code",
   "execution_count": 7,
   "id": "ce20f98d-725f-4e3c-a886-0fa04cab82d5",
   "metadata": {},
   "outputs": [
    {
     "data": {
      "text/plain": [
       "0       Takeaway\n",
       "1       In-store\n",
       "2       In-store\n",
       "3        UNKNOWN\n",
       "4       In-store\n",
       "          ...   \n",
       "9995     UNKNOWN\n",
       "9996     Unknown\n",
       "9997     Unknown\n",
       "9998     Unknown\n",
       "9999    In-store\n",
       "Name: Location, Length: 10000, dtype: object"
      ]
     },
     "execution_count": 7,
     "metadata": {},
     "output_type": "execute_result"
    }
   ],
   "source": [
    "# Fill 'Payment Method' & 'Location' with 'Unknown'\n",
    "df['Payment Method'].fillna('Unknown')\n",
    "df['Location'].fillna('Unknown')"
   ]
  },
  {
   "cell_type": "code",
   "execution_count": 8,
   "id": "f1f832e8-81b5-496b-a9b0-745677979e6a",
   "metadata": {},
   "outputs": [],
   "source": [
    "# Convert 'Transaction Date' to datetime and fill NaNs with a placeholder date\n",
    "df['Transaction Date'] = pd.to_datetime(df['Transaction Date'], errors='coerce').fillna(pd.Timestamp('2000-01-01'))"
   ]
  },
  {
   "cell_type": "code",
   "execution_count": 9,
   "id": "9eb40e06-53cf-492a-a292-0dd81d6ed622",
   "metadata": {},
   "outputs": [
    {
     "name": "stdout",
     "output_type": "stream",
     "text": [
      "<class 'pandas.core.frame.DataFrame'>\n",
      "RangeIndex: 10000 entries, 0 to 9999\n",
      "Data columns (total 8 columns):\n",
      " #   Column            Non-Null Count  Dtype         \n",
      "---  ------            --------------  -----         \n",
      " 0   Transaction ID    10000 non-null  object        \n",
      " 1   Item              10000 non-null  object        \n",
      " 2   Quantity          10000 non-null  float64       \n",
      " 3   Price Per Unit    10000 non-null  float64       \n",
      " 4   Total Spent       10000 non-null  float64       \n",
      " 5   Payment Method    7421 non-null   object        \n",
      " 6   Location          6735 non-null   object        \n",
      " 7   Transaction Date  10000 non-null  datetime64[ns]\n",
      "dtypes: datetime64[ns](1), float64(3), object(4)\n",
      "memory usage: 625.1+ KB\n"
     ]
    }
   ],
   "source": [
    "df.info()"
   ]
  },
  {
   "cell_type": "code",
   "execution_count": 10,
   "id": "c907c39a-694a-4144-ad05-12e67ff550b7",
   "metadata": {},
   "outputs": [
    {
     "data": {
      "text/html": [
       "<div>\n",
       "<style scoped>\n",
       "    .dataframe tbody tr th:only-of-type {\n",
       "        vertical-align: middle;\n",
       "    }\n",
       "\n",
       "    .dataframe tbody tr th {\n",
       "        vertical-align: top;\n",
       "    }\n",
       "\n",
       "    .dataframe thead th {\n",
       "        text-align: right;\n",
       "    }\n",
       "</style>\n",
       "<table border=\"1\" class=\"dataframe\">\n",
       "  <thead>\n",
       "    <tr style=\"text-align: right;\">\n",
       "      <th></th>\n",
       "      <th>Transaction ID</th>\n",
       "      <th>Item</th>\n",
       "      <th>Quantity</th>\n",
       "      <th>Price Per Unit</th>\n",
       "      <th>Total Spent</th>\n",
       "      <th>Payment Method</th>\n",
       "      <th>Location</th>\n",
       "      <th>Transaction Date</th>\n",
       "    </tr>\n",
       "  </thead>\n",
       "  <tbody>\n",
       "    <tr>\n",
       "      <th>0</th>\n",
       "      <td>TXN_1961373</td>\n",
       "      <td>Coffee</td>\n",
       "      <td>2.0</td>\n",
       "      <td>2.0</td>\n",
       "      <td>4.0</td>\n",
       "      <td>Credit Card</td>\n",
       "      <td>Takeaway</td>\n",
       "      <td>2023-09-08</td>\n",
       "    </tr>\n",
       "    <tr>\n",
       "      <th>1</th>\n",
       "      <td>TXN_4977031</td>\n",
       "      <td>Cake</td>\n",
       "      <td>4.0</td>\n",
       "      <td>3.0</td>\n",
       "      <td>12.0</td>\n",
       "      <td>Cash</td>\n",
       "      <td>In-store</td>\n",
       "      <td>2023-05-16</td>\n",
       "    </tr>\n",
       "    <tr>\n",
       "      <th>2</th>\n",
       "      <td>TXN_4271903</td>\n",
       "      <td>Cookie</td>\n",
       "      <td>4.0</td>\n",
       "      <td>1.0</td>\n",
       "      <td>0.0</td>\n",
       "      <td>Credit Card</td>\n",
       "      <td>In-store</td>\n",
       "      <td>2023-07-19</td>\n",
       "    </tr>\n",
       "    <tr>\n",
       "      <th>3</th>\n",
       "      <td>TXN_7034554</td>\n",
       "      <td>Salad</td>\n",
       "      <td>2.0</td>\n",
       "      <td>5.0</td>\n",
       "      <td>10.0</td>\n",
       "      <td>UNKNOWN</td>\n",
       "      <td>UNKNOWN</td>\n",
       "      <td>2023-04-27</td>\n",
       "    </tr>\n",
       "    <tr>\n",
       "      <th>4</th>\n",
       "      <td>TXN_3160411</td>\n",
       "      <td>Coffee</td>\n",
       "      <td>2.0</td>\n",
       "      <td>2.0</td>\n",
       "      <td>4.0</td>\n",
       "      <td>Digital Wallet</td>\n",
       "      <td>In-store</td>\n",
       "      <td>2023-06-11</td>\n",
       "    </tr>\n",
       "  </tbody>\n",
       "</table>\n",
       "</div>"
      ],
      "text/plain": [
       "  Transaction ID    Item  Quantity  Price Per Unit  Total Spent  \\\n",
       "0    TXN_1961373  Coffee       2.0             2.0          4.0   \n",
       "1    TXN_4977031    Cake       4.0             3.0         12.0   \n",
       "2    TXN_4271903  Cookie       4.0             1.0          0.0   \n",
       "3    TXN_7034554   Salad       2.0             5.0         10.0   \n",
       "4    TXN_3160411  Coffee       2.0             2.0          4.0   \n",
       "\n",
       "   Payment Method  Location Transaction Date  \n",
       "0     Credit Card  Takeaway       2023-09-08  \n",
       "1            Cash  In-store       2023-05-16  \n",
       "2     Credit Card  In-store       2023-07-19  \n",
       "3         UNKNOWN   UNKNOWN       2023-04-27  \n",
       "4  Digital Wallet  In-store       2023-06-11  "
      ]
     },
     "execution_count": 10,
     "metadata": {},
     "output_type": "execute_result"
    }
   ],
   "source": [
    "df.head()"
   ]
  },
  {
   "cell_type": "code",
   "execution_count": 11,
   "id": "889ec6fe-3d33-4f98-ba19-86e92b3f0d89",
   "metadata": {},
   "outputs": [],
   "source": [
    "# Strip extra spaces & standardize case for object columns\n",
    "df['Item'] = df['Item'].str.strip().str.title()\n",
    "df['Payment Method'] = df['Payment Method'].str.strip().str.title()\n",
    "df['Location'] = df['Location'].str.strip().str.title()"
   ]
  },
  {
   "cell_type": "code",
   "execution_count": 12,
   "id": "48c64e02-73f1-4d94-af33-ad8c7c45b258",
   "metadata": {},
   "outputs": [
    {
     "data": {
      "text/html": [
       "<div>\n",
       "<style scoped>\n",
       "    .dataframe tbody tr th:only-of-type {\n",
       "        vertical-align: middle;\n",
       "    }\n",
       "\n",
       "    .dataframe tbody tr th {\n",
       "        vertical-align: top;\n",
       "    }\n",
       "\n",
       "    .dataframe thead th {\n",
       "        text-align: right;\n",
       "    }\n",
       "</style>\n",
       "<table border=\"1\" class=\"dataframe\">\n",
       "  <thead>\n",
       "    <tr style=\"text-align: right;\">\n",
       "      <th></th>\n",
       "      <th>Item</th>\n",
       "      <th>Payment Method</th>\n",
       "      <th>Location</th>\n",
       "    </tr>\n",
       "  </thead>\n",
       "  <tbody>\n",
       "    <tr>\n",
       "      <th>0</th>\n",
       "      <td>Coffee</td>\n",
       "      <td>Credit Card</td>\n",
       "      <td>Takeaway</td>\n",
       "    </tr>\n",
       "    <tr>\n",
       "      <th>1</th>\n",
       "      <td>Cake</td>\n",
       "      <td>Cash</td>\n",
       "      <td>In-Store</td>\n",
       "    </tr>\n",
       "    <tr>\n",
       "      <th>2</th>\n",
       "      <td>Cookie</td>\n",
       "      <td>Credit Card</td>\n",
       "      <td>In-Store</td>\n",
       "    </tr>\n",
       "    <tr>\n",
       "      <th>3</th>\n",
       "      <td>Salad</td>\n",
       "      <td>Unknown</td>\n",
       "      <td>Unknown</td>\n",
       "    </tr>\n",
       "    <tr>\n",
       "      <th>4</th>\n",
       "      <td>Coffee</td>\n",
       "      <td>Digital Wallet</td>\n",
       "      <td>In-Store</td>\n",
       "    </tr>\n",
       "    <tr>\n",
       "      <th>5</th>\n",
       "      <td>Smoothie</td>\n",
       "      <td>Credit Card</td>\n",
       "      <td>NaN</td>\n",
       "    </tr>\n",
       "    <tr>\n",
       "      <th>6</th>\n",
       "      <td>Unknown</td>\n",
       "      <td>Error</td>\n",
       "      <td>Takeaway</td>\n",
       "    </tr>\n",
       "    <tr>\n",
       "      <th>7</th>\n",
       "      <td>Sandwich</td>\n",
       "      <td>Cash</td>\n",
       "      <td>Unknown</td>\n",
       "    </tr>\n",
       "    <tr>\n",
       "      <th>8</th>\n",
       "      <td>Unknown</td>\n",
       "      <td>NaN</td>\n",
       "      <td>Takeaway</td>\n",
       "    </tr>\n",
       "    <tr>\n",
       "      <th>9</th>\n",
       "      <td>Sandwich</td>\n",
       "      <td>NaN</td>\n",
       "      <td>In-Store</td>\n",
       "    </tr>\n",
       "  </tbody>\n",
       "</table>\n",
       "</div>"
      ],
      "text/plain": [
       "       Item  Payment Method  Location\n",
       "0    Coffee     Credit Card  Takeaway\n",
       "1      Cake            Cash  In-Store\n",
       "2    Cookie     Credit Card  In-Store\n",
       "3     Salad         Unknown   Unknown\n",
       "4    Coffee  Digital Wallet  In-Store\n",
       "5  Smoothie     Credit Card       NaN\n",
       "6   Unknown           Error  Takeaway\n",
       "7  Sandwich            Cash   Unknown\n",
       "8   Unknown             NaN  Takeaway\n",
       "9  Sandwich             NaN  In-Store"
      ]
     },
     "execution_count": 12,
     "metadata": {},
     "output_type": "execute_result"
    }
   ],
   "source": [
    "df[['Item', 'Payment Method', 'Location']].head(10)"
   ]
  },
  {
   "cell_type": "code",
   "execution_count": 13,
   "id": "ea922024-15f1-4357-aaa5-fc619cd5c9ee",
   "metadata": {},
   "outputs": [
    {
     "name": "stdout",
     "output_type": "stream",
     "text": [
      "Negative Quantities: 0\n",
      "Negative Prices: 0\n",
      "Negative Totals: 0\n"
     ]
    }
   ],
   "source": [
    "# Check for invalid values\n",
    "print(\"Negative Quantities:\", (df['Quantity'] < 0).sum())\n",
    "print(\"Negative Prices:\", (df['Price Per Unit'] < 0).sum())\n",
    "print(\"Negative Totals:\", (df['Total Spent'] < 0).sum())\n"
   ]
  },
  {
   "cell_type": "code",
   "execution_count": 14,
   "id": "e18b5439-fcf3-4220-b88d-ea442beee6b0",
   "metadata": {},
   "outputs": [
    {
     "name": "stdout",
     "output_type": "stream",
     "text": [
      "Zero Price with Quantity > 0: 515\n"
     ]
    }
   ],
   "source": [
    "# Check for zero prices where quantity > 0\n",
    "print(\"Zero Price with Quantity > 0:\", ((df['Price Per Unit'] == 0) & (df['Quantity'] > 0)).sum())"
   ]
  },
  {
   "cell_type": "code",
   "execution_count": 15,
   "id": "fc76cab8-7a8e-443a-b4a2-1d34b545e3ea",
   "metadata": {},
   "outputs": [
    {
     "data": {
      "text/html": [
       "<div>\n",
       "<style scoped>\n",
       "    .dataframe tbody tr th:only-of-type {\n",
       "        vertical-align: middle;\n",
       "    }\n",
       "\n",
       "    .dataframe tbody tr th {\n",
       "        vertical-align: top;\n",
       "    }\n",
       "\n",
       "    .dataframe thead th {\n",
       "        text-align: right;\n",
       "    }\n",
       "</style>\n",
       "<table border=\"1\" class=\"dataframe\">\n",
       "  <thead>\n",
       "    <tr style=\"text-align: right;\">\n",
       "      <th></th>\n",
       "      <th>Transaction ID</th>\n",
       "      <th>Item</th>\n",
       "      <th>Quantity</th>\n",
       "      <th>Price Per Unit</th>\n",
       "      <th>Total Spent</th>\n",
       "      <th>Payment Method</th>\n",
       "      <th>Location</th>\n",
       "      <th>Transaction Date</th>\n",
       "    </tr>\n",
       "  </thead>\n",
       "  <tbody>\n",
       "    <tr>\n",
       "      <th>56</th>\n",
       "      <td>TXN_3578141</td>\n",
       "      <td>Cake</td>\n",
       "      <td>5.0</td>\n",
       "      <td>0.0</td>\n",
       "      <td>15.0</td>\n",
       "      <td>NaN</td>\n",
       "      <td>Takeaway</td>\n",
       "      <td>2023-06-27</td>\n",
       "    </tr>\n",
       "    <tr>\n",
       "      <th>65</th>\n",
       "      <td>TXN_4987129</td>\n",
       "      <td>Sandwich</td>\n",
       "      <td>3.0</td>\n",
       "      <td>0.0</td>\n",
       "      <td>0.0</td>\n",
       "      <td>NaN</td>\n",
       "      <td>In-Store</td>\n",
       "      <td>2023-10-20</td>\n",
       "    </tr>\n",
       "    <tr>\n",
       "      <th>68</th>\n",
       "      <td>TXN_8427104</td>\n",
       "      <td>Salad</td>\n",
       "      <td>2.0</td>\n",
       "      <td>0.0</td>\n",
       "      <td>10.0</td>\n",
       "      <td>NaN</td>\n",
       "      <td>In-Store</td>\n",
       "      <td>2023-10-27</td>\n",
       "    </tr>\n",
       "    <tr>\n",
       "      <th>85</th>\n",
       "      <td>TXN_8035512</td>\n",
       "      <td>Tea</td>\n",
       "      <td>3.0</td>\n",
       "      <td>0.0</td>\n",
       "      <td>4.5</td>\n",
       "      <td>Cash</td>\n",
       "      <td>Unknown</td>\n",
       "      <td>2023-10-29</td>\n",
       "    </tr>\n",
       "    <tr>\n",
       "      <th>104</th>\n",
       "      <td>TXN_7447872</td>\n",
       "      <td>Juice</td>\n",
       "      <td>2.0</td>\n",
       "      <td>0.0</td>\n",
       "      <td>6.0</td>\n",
       "      <td>NaN</td>\n",
       "      <td>NaN</td>\n",
       "      <td>2000-01-01</td>\n",
       "    </tr>\n",
       "    <tr>\n",
       "      <th>118</th>\n",
       "      <td>TXN_4633784</td>\n",
       "      <td>Error</td>\n",
       "      <td>5.0</td>\n",
       "      <td>0.0</td>\n",
       "      <td>15.0</td>\n",
       "      <td>NaN</td>\n",
       "      <td>In-Store</td>\n",
       "      <td>2023-02-06</td>\n",
       "    </tr>\n",
       "    <tr>\n",
       "      <th>140</th>\n",
       "      <td>TXN_2484241</td>\n",
       "      <td>Cake</td>\n",
       "      <td>3.0</td>\n",
       "      <td>0.0</td>\n",
       "      <td>9.0</td>\n",
       "      <td>Digital Wallet</td>\n",
       "      <td>NaN</td>\n",
       "      <td>2023-07-19</td>\n",
       "    </tr>\n",
       "    <tr>\n",
       "      <th>147</th>\n",
       "      <td>TXN_9336980</td>\n",
       "      <td>Salad</td>\n",
       "      <td>4.0</td>\n",
       "      <td>0.0</td>\n",
       "      <td>20.0</td>\n",
       "      <td>Cash</td>\n",
       "      <td>In-Store</td>\n",
       "      <td>2023-06-06</td>\n",
       "    </tr>\n",
       "    <tr>\n",
       "      <th>151</th>\n",
       "      <td>TXN_4031509</td>\n",
       "      <td>Unknown</td>\n",
       "      <td>4.0</td>\n",
       "      <td>0.0</td>\n",
       "      <td>16.0</td>\n",
       "      <td>Credit Card</td>\n",
       "      <td>Takeaway</td>\n",
       "      <td>2023-01-04</td>\n",
       "    </tr>\n",
       "    <tr>\n",
       "      <th>161</th>\n",
       "      <td>TXN_7965998</td>\n",
       "      <td>Juice</td>\n",
       "      <td>1.0</td>\n",
       "      <td>0.0</td>\n",
       "      <td>3.0</td>\n",
       "      <td>Credit Card</td>\n",
       "      <td>In-Store</td>\n",
       "      <td>2023-11-02</td>\n",
       "    </tr>\n",
       "  </tbody>\n",
       "</table>\n",
       "</div>"
      ],
      "text/plain": [
       "    Transaction ID      Item  Quantity  Price Per Unit  Total Spent  \\\n",
       "56     TXN_3578141      Cake       5.0             0.0         15.0   \n",
       "65     TXN_4987129  Sandwich       3.0             0.0          0.0   \n",
       "68     TXN_8427104     Salad       2.0             0.0         10.0   \n",
       "85     TXN_8035512       Tea       3.0             0.0          4.5   \n",
       "104    TXN_7447872     Juice       2.0             0.0          6.0   \n",
       "118    TXN_4633784     Error       5.0             0.0         15.0   \n",
       "140    TXN_2484241      Cake       3.0             0.0          9.0   \n",
       "147    TXN_9336980     Salad       4.0             0.0         20.0   \n",
       "151    TXN_4031509   Unknown       4.0             0.0         16.0   \n",
       "161    TXN_7965998     Juice       1.0             0.0          3.0   \n",
       "\n",
       "     Payment Method  Location Transaction Date  \n",
       "56              NaN  Takeaway       2023-06-27  \n",
       "65              NaN  In-Store       2023-10-20  \n",
       "68              NaN  In-Store       2023-10-27  \n",
       "85             Cash   Unknown       2023-10-29  \n",
       "104             NaN       NaN       2000-01-01  \n",
       "118             NaN  In-Store       2023-02-06  \n",
       "140  Digital Wallet       NaN       2023-07-19  \n",
       "147            Cash  In-Store       2023-06-06  \n",
       "151     Credit Card  Takeaway       2023-01-04  \n",
       "161     Credit Card  In-Store       2023-11-02  "
      ]
     },
     "execution_count": 15,
     "metadata": {},
     "output_type": "execute_result"
    }
   ],
   "source": [
    "# Show transactions where price is zero but quantity is greater than zero\n",
    "df[df['Price Per Unit'] == 0].head(10)\n"
   ]
  },
  {
   "cell_type": "code",
   "execution_count": 16,
   "id": "78d1f615-1702-4837-aabb-6b91cc8eb95f",
   "metadata": {},
   "outputs": [
    {
     "name": "stdout",
     "output_type": "stream",
     "text": [
      "502\n"
     ]
    }
   ],
   "source": [
    "print((df['Total Spent'] == 0).sum())\n"
   ]
  },
  {
   "cell_type": "code",
   "execution_count": 17,
   "id": "e05f8d55-4eaf-4541-a642-3db5e13cff6a",
   "metadata": {},
   "outputs": [
    {
     "name": "stdout",
     "output_type": "stream",
     "text": [
      "Remaining rows: 9485\n"
     ]
    }
   ],
   "source": [
    "# Remove rows where price is zero but quantity > 0\n",
    "df = df[~((df['Price Per Unit'] == 0) & (df['Quantity'] > 0))]\n",
    "\n",
    "# Confirm removal\n",
    "print(\"Remaining rows:\", len(df))\n"
   ]
  },
  {
   "cell_type": "code",
   "execution_count": 18,
   "id": "c588c639-cf82-4b45-b786-7c96d439c4c4",
   "metadata": {},
   "outputs": [
    {
     "name": "stdout",
     "output_type": "stream",
     "text": [
      "<class 'pandas.core.frame.DataFrame'>\n",
      "Index: 9485 entries, 0 to 9999\n",
      "Data columns (total 8 columns):\n",
      " #   Column            Non-Null Count  Dtype         \n",
      "---  ------            --------------  -----         \n",
      " 0   Transaction ID    9485 non-null   object        \n",
      " 1   Item              9485 non-null   object        \n",
      " 2   Quantity          9485 non-null   float64       \n",
      " 3   Price Per Unit    9485 non-null   float64       \n",
      " 4   Total Spent       9485 non-null   float64       \n",
      " 5   Payment Method    7043 non-null   object        \n",
      " 6   Location          6388 non-null   object        \n",
      " 7   Transaction Date  9485 non-null   datetime64[ns]\n",
      "dtypes: datetime64[ns](1), float64(3), object(4)\n",
      "memory usage: 666.9+ KB\n"
     ]
    }
   ],
   "source": [
    "df.info()"
   ]
  },
  {
   "cell_type": "code",
   "execution_count": 19,
   "id": "983599b9-6d61-4500-92f6-420d7734b2d6",
   "metadata": {},
   "outputs": [
    {
     "name": "stdout",
     "output_type": "stream",
     "text": [
      "Payment Method\n",
      "Digital Wallet    2177\n",
      "Credit Card       2151\n",
      "Cash              2147\n",
      "Error              288\n",
      "Unknown            280\n",
      "Name: count, dtype: int64\n",
      "Location\n",
      "In-Store    2870\n",
      "Takeaway    2863\n",
      "Error        341\n",
      "Unknown      314\n",
      "Name: count, dtype: int64\n"
     ]
    }
   ],
   "source": [
    "print(df['Payment Method'].value_counts())\n",
    "print(df['Location'].value_counts())\n"
   ]
  },
  {
   "cell_type": "code",
   "execution_count": 20,
   "id": "d9902943-0323-4e26-9835-3d1a8f3f1c3c",
   "metadata": {},
   "outputs": [
    {
     "name": "stdout",
     "output_type": "stream",
     "text": [
      "Payment Method\n",
      "Digital Wallet    2177\n",
      "Credit Card       2151\n",
      "Cash              2147\n",
      "Error              288\n",
      "Unknown            280\n",
      "Name: count, dtype: int64\n",
      "Location\n",
      "In-Store    2870\n",
      "Takeaway    2863\n",
      "Error        341\n",
      "Unknown      314\n",
      "Name: count, dtype: int64\n"
     ]
    }
   ],
   "source": [
    "# Replace \"Error\" with mode \n",
    "df['Payment Method'].replace(\"Error\", df['Payment Method'].mode()[0])\n",
    "df['Location'].replace(\"Error\", df['Location'].mode()[0])\n",
    "\n",
    "# Verify changes\n",
    "print(df['Payment Method'].value_counts())\n",
    "print(df['Location'].value_counts())\n"
   ]
  },
  {
   "cell_type": "code",
   "execution_count": 21,
   "id": "2f9323f3-f8b8-4a8d-831c-796a7d36a092",
   "metadata": {},
   "outputs": [],
   "source": [
    "df.dropna(subset=['Payment Method', 'Location'], inplace=True)\n"
   ]
  },
  {
   "cell_type": "code",
   "execution_count": 22,
   "id": "7c93e0d9-722e-4b16-9b98-946c806ad961",
   "metadata": {},
   "outputs": [
    {
     "name": "stdout",
     "output_type": "stream",
     "text": [
      "Transaction ID      0\n",
      "Item                0\n",
      "Quantity            0\n",
      "Price Per Unit      0\n",
      "Total Spent         0\n",
      "Payment Method      0\n",
      "Location            0\n",
      "Transaction Date    0\n",
      "dtype: int64\n"
     ]
    }
   ],
   "source": [
    "print(df.isnull().sum())  # Should be all zeros\n"
   ]
  },
  {
   "cell_type": "code",
   "execution_count": 23,
   "id": "3cfd65aa-fb46-4a29-81ad-c2af762dac24",
   "metadata": {},
   "outputs": [
    {
     "name": "stdout",
     "output_type": "stream",
     "text": [
      "Cleaned dataset saved as: cleaned_cafe_sales.csv\n"
     ]
    }
   ],
   "source": [
    "cleaned_file_path = \"cleaned_cafe_sales.csv\"\n",
    "df.to_csv(cleaned_file_path, index=False)\n",
    "print(\"Cleaned dataset saved as:\", cleaned_file_path)\n"
   ]
  },
  {
   "cell_type": "code",
   "execution_count": null,
   "id": "ad8a2407-9e13-4b6f-b747-28866d511151",
   "metadata": {},
   "outputs": [],
   "source": []
  }
 ],
 "metadata": {
  "kernelspec": {
   "display_name": "Python 3 (ipykernel)",
   "language": "python",
   "name": "python3"
  },
  "language_info": {
   "codemirror_mode": {
    "name": "ipython",
    "version": 3
   },
   "file_extension": ".py",
   "mimetype": "text/x-python",
   "name": "python",
   "nbconvert_exporter": "python",
   "pygments_lexer": "ipython3",
   "version": "3.12.4"
  }
 },
 "nbformat": 4,
 "nbformat_minor": 5
}
